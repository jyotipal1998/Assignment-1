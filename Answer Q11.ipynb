{
 "cells": [
  {
   "cell_type": "code",
   "execution_count": 1,
   "id": "7a571e62",
   "metadata": {},
   "outputs": [],
   "source": [
    "from scipy import stats"
   ]
  },
  {
   "cell_type": "code",
   "execution_count": 2,
   "id": "50ba3fa8",
   "metadata": {},
   "outputs": [
    {
     "data": {
      "text/plain": [
       "1.6003529445653557"
      ]
     },
     "execution_count": 2,
     "metadata": {},
     "output_type": "execute_result"
    }
   ],
   "source": [
    "stats.t.ppf(0.94,30)"
   ]
  },
  {
   "cell_type": "code",
   "execution_count": 3,
   "id": "af8fd4e7",
   "metadata": {},
   "outputs": [
    {
     "data": {
      "text/plain": [
       "151.98941166303933"
      ]
     },
     "execution_count": 3,
     "metadata": {},
     "output_type": "execute_result"
    }
   ],
   "source": [
    "200 - 30*stats.t.ppf(0.94,30)"
   ]
  },
  {
   "cell_type": "code",
   "execution_count": 4,
   "id": "c969f177",
   "metadata": {},
   "outputs": [
    {
     "data": {
      "text/plain": [
       "2.1469662790897917"
      ]
     },
     "execution_count": 4,
     "metadata": {},
     "output_type": "execute_result"
    }
   ],
   "source": [
    "stats.t.ppf(0.98,30)"
   ]
  },
  {
   "cell_type": "code",
   "execution_count": 5,
   "id": "83f3c154",
   "metadata": {},
   "outputs": [
    {
     "data": {
      "text/plain": [
       "1.8120471079011007"
      ]
     },
     "execution_count": 5,
     "metadata": {},
     "output_type": "execute_result"
    }
   ],
   "source": [
    "stats.t.ppf(0.96,30)"
   ]
  },
  {
   "cell_type": "code",
   "execution_count": 6,
   "id": "9a96c449",
   "metadata": {},
   "outputs": [
    {
     "data": {
      "text/plain": [
       "(143.57619175546247, 256.42380824453755)"
      ]
     },
     "execution_count": 6,
     "metadata": {},
     "output_type": "execute_result"
    }
   ],
   "source": [
    "stats.norm.interval(0.94,\n",
    "                   loc=200,\n",
    "                   scale=30)\n"
   ]
  },
  {
   "cell_type": "code",
   "execution_count": 7,
   "id": "cca4fa5f",
   "metadata": {},
   "outputs": [
    {
     "data": {
      "text/plain": [
       "(138.38753268104531, 261.61246731895466)"
      ]
     },
     "execution_count": 7,
     "metadata": {},
     "output_type": "execute_result"
    }
   ],
   "source": [
    "stats.norm.interval(0.96,\n",
    "                   loc=200,\n",
    "                   scale=30)"
   ]
  },
  {
   "cell_type": "code",
   "execution_count": 8,
   "id": "5a8af862",
   "metadata": {},
   "outputs": [
    {
     "data": {
      "text/plain": [
       "(130.2095637787748, 269.7904362212252)"
      ]
     },
     "execution_count": 8,
     "metadata": {},
     "output_type": "execute_result"
    }
   ],
   "source": [
    "stats.norm.interval(0.98,\n",
    "                   loc=200,\n",
    "                   scale=30)"
   ]
  },
  {
   "cell_type": "code",
   "execution_count": 9,
   "id": "9281a001",
   "metadata": {},
   "outputs": [
    {
     "data": {
      "text/plain": [
       "(170.7765836882207, 229.22341631177926)"
      ]
     },
     "execution_count": 9,
     "metadata": {},
     "output_type": "execute_result"
    }
   ],
   "source": [
    "stats.norm.interval(0.67,\n",
    "                   loc=200,\n",
    "                   scale=30)"
   ]
  },
  {
   "cell_type": "code",
   "execution_count": null,
   "id": "cdbceacb",
   "metadata": {},
   "outputs": [],
   "source": []
  }
 ],
 "metadata": {
  "kernelspec": {
   "display_name": "Python 3 (ipykernel)",
   "language": "python",
   "name": "python3"
  },
  "language_info": {
   "codemirror_mode": {
    "name": "ipython",
    "version": 3
   },
   "file_extension": ".py",
   "mimetype": "text/x-python",
   "name": "python",
   "nbconvert_exporter": "python",
   "pygments_lexer": "ipython3",
   "version": "3.9.7"
  }
 },
 "nbformat": 4,
 "nbformat_minor": 5
}
