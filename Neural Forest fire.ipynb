{
 "cells": [
  {
   "cell_type": "code",
   "execution_count": 49,
   "id": "75fba9be",
   "metadata": {},
   "outputs": [],
   "source": [
    "import pandas as pd\n",
    "import numpy as np\n",
    "import matplotlib.pyplot as plt\n",
    "%matplotlib inline"
   ]
  },
  {
   "cell_type": "code",
   "execution_count": 50,
   "id": "d94aa50e",
   "metadata": {},
   "outputs": [],
   "source": [
    "df = pd.read_csv(\"forestfires.csv\")\n"
   ]
  },
  {
   "cell_type": "code",
   "execution_count": 51,
   "id": "2cba68e7",
   "metadata": {},
   "outputs": [
    {
     "data": {
      "text/html": [
       "<div>\n",
       "<style scoped>\n",
       "    .dataframe tbody tr th:only-of-type {\n",
       "        vertical-align: middle;\n",
       "    }\n",
       "\n",
       "    .dataframe tbody tr th {\n",
       "        vertical-align: top;\n",
       "    }\n",
       "\n",
       "    .dataframe thead th {\n",
       "        text-align: right;\n",
       "    }\n",
       "</style>\n",
       "<table border=\"1\" class=\"dataframe\">\n",
       "  <thead>\n",
       "    <tr style=\"text-align: right;\">\n",
       "      <th></th>\n",
       "      <th>month</th>\n",
       "      <th>day</th>\n",
       "      <th>FFMC</th>\n",
       "      <th>DMC</th>\n",
       "      <th>DC</th>\n",
       "      <th>ISI</th>\n",
       "      <th>temp</th>\n",
       "      <th>RH</th>\n",
       "      <th>wind</th>\n",
       "      <th>rain</th>\n",
       "      <th>...</th>\n",
       "      <th>monthfeb</th>\n",
       "      <th>monthjan</th>\n",
       "      <th>monthjul</th>\n",
       "      <th>monthjun</th>\n",
       "      <th>monthmar</th>\n",
       "      <th>monthmay</th>\n",
       "      <th>monthnov</th>\n",
       "      <th>monthoct</th>\n",
       "      <th>monthsep</th>\n",
       "      <th>size_category</th>\n",
       "    </tr>\n",
       "  </thead>\n",
       "  <tbody>\n",
       "    <tr>\n",
       "      <th>0</th>\n",
       "      <td>mar</td>\n",
       "      <td>fri</td>\n",
       "      <td>86.2</td>\n",
       "      <td>26.2</td>\n",
       "      <td>94.3</td>\n",
       "      <td>5.1</td>\n",
       "      <td>8.2</td>\n",
       "      <td>51</td>\n",
       "      <td>6.7</td>\n",
       "      <td>0.0</td>\n",
       "      <td>...</td>\n",
       "      <td>0</td>\n",
       "      <td>0</td>\n",
       "      <td>0</td>\n",
       "      <td>0</td>\n",
       "      <td>1</td>\n",
       "      <td>0</td>\n",
       "      <td>0</td>\n",
       "      <td>0</td>\n",
       "      <td>0</td>\n",
       "      <td>small</td>\n",
       "    </tr>\n",
       "    <tr>\n",
       "      <th>1</th>\n",
       "      <td>oct</td>\n",
       "      <td>tue</td>\n",
       "      <td>90.6</td>\n",
       "      <td>35.4</td>\n",
       "      <td>669.1</td>\n",
       "      <td>6.7</td>\n",
       "      <td>18.0</td>\n",
       "      <td>33</td>\n",
       "      <td>0.9</td>\n",
       "      <td>0.0</td>\n",
       "      <td>...</td>\n",
       "      <td>0</td>\n",
       "      <td>0</td>\n",
       "      <td>0</td>\n",
       "      <td>0</td>\n",
       "      <td>0</td>\n",
       "      <td>0</td>\n",
       "      <td>0</td>\n",
       "      <td>1</td>\n",
       "      <td>0</td>\n",
       "      <td>small</td>\n",
       "    </tr>\n",
       "    <tr>\n",
       "      <th>2</th>\n",
       "      <td>oct</td>\n",
       "      <td>sat</td>\n",
       "      <td>90.6</td>\n",
       "      <td>43.7</td>\n",
       "      <td>686.9</td>\n",
       "      <td>6.7</td>\n",
       "      <td>14.6</td>\n",
       "      <td>33</td>\n",
       "      <td>1.3</td>\n",
       "      <td>0.0</td>\n",
       "      <td>...</td>\n",
       "      <td>0</td>\n",
       "      <td>0</td>\n",
       "      <td>0</td>\n",
       "      <td>0</td>\n",
       "      <td>0</td>\n",
       "      <td>0</td>\n",
       "      <td>0</td>\n",
       "      <td>1</td>\n",
       "      <td>0</td>\n",
       "      <td>small</td>\n",
       "    </tr>\n",
       "    <tr>\n",
       "      <th>3</th>\n",
       "      <td>mar</td>\n",
       "      <td>fri</td>\n",
       "      <td>91.7</td>\n",
       "      <td>33.3</td>\n",
       "      <td>77.5</td>\n",
       "      <td>9.0</td>\n",
       "      <td>8.3</td>\n",
       "      <td>97</td>\n",
       "      <td>4.0</td>\n",
       "      <td>0.2</td>\n",
       "      <td>...</td>\n",
       "      <td>0</td>\n",
       "      <td>0</td>\n",
       "      <td>0</td>\n",
       "      <td>0</td>\n",
       "      <td>1</td>\n",
       "      <td>0</td>\n",
       "      <td>0</td>\n",
       "      <td>0</td>\n",
       "      <td>0</td>\n",
       "      <td>small</td>\n",
       "    </tr>\n",
       "    <tr>\n",
       "      <th>4</th>\n",
       "      <td>mar</td>\n",
       "      <td>sun</td>\n",
       "      <td>89.3</td>\n",
       "      <td>51.3</td>\n",
       "      <td>102.2</td>\n",
       "      <td>9.6</td>\n",
       "      <td>11.4</td>\n",
       "      <td>99</td>\n",
       "      <td>1.8</td>\n",
       "      <td>0.0</td>\n",
       "      <td>...</td>\n",
       "      <td>0</td>\n",
       "      <td>0</td>\n",
       "      <td>0</td>\n",
       "      <td>0</td>\n",
       "      <td>1</td>\n",
       "      <td>0</td>\n",
       "      <td>0</td>\n",
       "      <td>0</td>\n",
       "      <td>0</td>\n",
       "      <td>small</td>\n",
       "    </tr>\n",
       "  </tbody>\n",
       "</table>\n",
       "<p>5 rows × 31 columns</p>\n",
       "</div>"
      ],
      "text/plain": [
       "  month  day  FFMC   DMC     DC  ISI  temp  RH  wind  rain  ...  monthfeb  \\\n",
       "0   mar  fri  86.2  26.2   94.3  5.1   8.2  51   6.7   0.0  ...         0   \n",
       "1   oct  tue  90.6  35.4  669.1  6.7  18.0  33   0.9   0.0  ...         0   \n",
       "2   oct  sat  90.6  43.7  686.9  6.7  14.6  33   1.3   0.0  ...         0   \n",
       "3   mar  fri  91.7  33.3   77.5  9.0   8.3  97   4.0   0.2  ...         0   \n",
       "4   mar  sun  89.3  51.3  102.2  9.6  11.4  99   1.8   0.0  ...         0   \n",
       "\n",
       "   monthjan  monthjul  monthjun  monthmar  monthmay  monthnov  monthoct  \\\n",
       "0         0         0         0         1         0         0         0   \n",
       "1         0         0         0         0         0         0         1   \n",
       "2         0         0         0         0         0         0         1   \n",
       "3         0         0         0         1         0         0         0   \n",
       "4         0         0         0         1         0         0         0   \n",
       "\n",
       "   monthsep  size_category  \n",
       "0         0          small  \n",
       "1         0          small  \n",
       "2         0          small  \n",
       "3         0          small  \n",
       "4         0          small  \n",
       "\n",
       "[5 rows x 31 columns]"
      ]
     },
     "execution_count": 51,
     "metadata": {},
     "output_type": "execute_result"
    }
   ],
   "source": [
    "df.head()\n"
   ]
  },
  {
   "cell_type": "code",
   "execution_count": 52,
   "id": "ad9a3d6b",
   "metadata": {},
   "outputs": [
    {
     "data": {
      "text/plain": [
       "(517, 31)"
      ]
     },
     "execution_count": 52,
     "metadata": {},
     "output_type": "execute_result"
    }
   ],
   "source": [
    "df.shape\n"
   ]
  },
  {
   "cell_type": "code",
   "execution_count": 53,
   "id": "2426d3c4",
   "metadata": {},
   "outputs": [
    {
     "data": {
      "text/plain": [
       "Index(['month', 'day', 'FFMC', 'DMC', 'DC', 'ISI', 'temp', 'RH', 'wind',\n",
       "       'rain', 'area', 'dayfri', 'daymon', 'daysat', 'daysun', 'daythu',\n",
       "       'daytue', 'daywed', 'monthapr', 'monthaug', 'monthdec', 'monthfeb',\n",
       "       'monthjan', 'monthjul', 'monthjun', 'monthmar', 'monthmay', 'monthnov',\n",
       "       'monthoct', 'monthsep', 'size_category'],\n",
       "      dtype='object')"
      ]
     },
     "execution_count": 53,
     "metadata": {},
     "output_type": "execute_result"
    }
   ],
   "source": [
    "df.columns\n"
   ]
  },
  {
   "cell_type": "code",
   "execution_count": 54,
   "id": "5d9f44f8",
   "metadata": {},
   "outputs": [
    {
     "data": {
      "text/plain": [
       "month             object\n",
       "day               object\n",
       "FFMC             float64\n",
       "DMC              float64\n",
       "DC               float64\n",
       "ISI              float64\n",
       "temp             float64\n",
       "RH                 int64\n",
       "wind             float64\n",
       "rain             float64\n",
       "area             float64\n",
       "dayfri             int64\n",
       "daymon             int64\n",
       "daysat             int64\n",
       "daysun             int64\n",
       "daythu             int64\n",
       "daytue             int64\n",
       "daywed             int64\n",
       "monthapr           int64\n",
       "monthaug           int64\n",
       "monthdec           int64\n",
       "monthfeb           int64\n",
       "monthjan           int64\n",
       "monthjul           int64\n",
       "monthjun           int64\n",
       "monthmar           int64\n",
       "monthmay           int64\n",
       "monthnov           int64\n",
       "monthoct           int64\n",
       "monthsep           int64\n",
       "size_category     object\n",
       "dtype: object"
      ]
     },
     "execution_count": 54,
     "metadata": {},
     "output_type": "execute_result"
    }
   ],
   "source": [
    "df.dtypes"
   ]
  },
  {
   "cell_type": "code",
   "execution_count": 55,
   "id": "f3f6f0ba",
   "metadata": {},
   "outputs": [
    {
     "data": {
      "text/plain": [
       "month            0\n",
       "day              0\n",
       "FFMC             0\n",
       "DMC              0\n",
       "DC               0\n",
       "ISI              0\n",
       "temp             0\n",
       "RH               0\n",
       "wind             0\n",
       "rain             0\n",
       "area             0\n",
       "dayfri           0\n",
       "daymon           0\n",
       "daysat           0\n",
       "daysun           0\n",
       "daythu           0\n",
       "daytue           0\n",
       "daywed           0\n",
       "monthapr         0\n",
       "monthaug         0\n",
       "monthdec         0\n",
       "monthfeb         0\n",
       "monthjan         0\n",
       "monthjul         0\n",
       "monthjun         0\n",
       "monthmar         0\n",
       "monthmay         0\n",
       "monthnov         0\n",
       "monthoct         0\n",
       "monthsep         0\n",
       "size_category    0\n",
       "dtype: int64"
      ]
     },
     "execution_count": 55,
     "metadata": {},
     "output_type": "execute_result"
    }
   ],
   "source": [
    "df.isnull().sum()\n"
   ]
  },
  {
   "cell_type": "code",
   "execution_count": 56,
   "id": "f69ff2e2",
   "metadata": {},
   "outputs": [
    {
     "name": "stdout",
     "output_type": "stream",
     "text": [
      "<class 'pandas.core.frame.DataFrame'>\n",
      "RangeIndex: 517 entries, 0 to 516\n",
      "Data columns (total 31 columns):\n",
      " #   Column         Non-Null Count  Dtype  \n",
      "---  ------         --------------  -----  \n",
      " 0   month          517 non-null    object \n",
      " 1   day            517 non-null    object \n",
      " 2   FFMC           517 non-null    float64\n",
      " 3   DMC            517 non-null    float64\n",
      " 4   DC             517 non-null    float64\n",
      " 5   ISI            517 non-null    float64\n",
      " 6   temp           517 non-null    float64\n",
      " 7   RH             517 non-null    int64  \n",
      " 8   wind           517 non-null    float64\n",
      " 9   rain           517 non-null    float64\n",
      " 10  area           517 non-null    float64\n",
      " 11  dayfri         517 non-null    int64  \n",
      " 12  daymon         517 non-null    int64  \n",
      " 13  daysat         517 non-null    int64  \n",
      " 14  daysun         517 non-null    int64  \n",
      " 15  daythu         517 non-null    int64  \n",
      " 16  daytue         517 non-null    int64  \n",
      " 17  daywed         517 non-null    int64  \n",
      " 18  monthapr       517 non-null    int64  \n",
      " 19  monthaug       517 non-null    int64  \n",
      " 20  monthdec       517 non-null    int64  \n",
      " 21  monthfeb       517 non-null    int64  \n",
      " 22  monthjan       517 non-null    int64  \n",
      " 23  monthjul       517 non-null    int64  \n",
      " 24  monthjun       517 non-null    int64  \n",
      " 25  monthmar       517 non-null    int64  \n",
      " 26  monthmay       517 non-null    int64  \n",
      " 27  monthnov       517 non-null    int64  \n",
      " 28  monthoct       517 non-null    int64  \n",
      " 29  monthsep       517 non-null    int64  \n",
      " 30  size_category  517 non-null    object \n",
      "dtypes: float64(8), int64(20), object(3)\n",
      "memory usage: 125.3+ KB\n"
     ]
    }
   ],
   "source": [
    "df.info()\n"
   ]
  },
  {
   "cell_type": "code",
   "execution_count": 57,
   "id": "268d0cfc",
   "metadata": {},
   "outputs": [
    {
     "data": {
      "text/plain": [
       "small    378\n",
       "large    139\n",
       "Name: size_category, dtype: int64"
      ]
     },
     "execution_count": 57,
     "metadata": {},
     "output_type": "execute_result"
    }
   ],
   "source": [
    "df['size_category'].value_counts()#target variable\n"
   ]
  },
  {
   "cell_type": "code",
   "execution_count": 58,
   "id": "1ca251e2",
   "metadata": {},
   "outputs": [
    {
     "data": {
      "text/plain": [
       "<AxesSubplot:>"
      ]
     },
     "execution_count": 58,
     "metadata": {},
     "output_type": "execute_result"
    },
    {
     "data": {
      "image/png": "[encoded data removed]",
      "text/plain": [
       "<Figure size 432x288 with 1 Axes>"
      ]
     },
     "metadata": {
      "needs_background": "light"
     },
     "output_type": "display_data"
    }
   ],
   "source": [
    "import seaborn as sns\n",
    "sns.barplot(data=df)"
   ]
  },
  {
   "cell_type": "code",
   "execution_count": 59,
   "id": "7a1ee53b",
   "metadata": {},
   "outputs": [
    {
     "data": {
      "text/plain": [
       "<AxesSubplot:>"
      ]
     },
     "execution_count": 59,
     "metadata": {},
     "output_type": "execute_result"
    },
    {
     "data": {
      "image/png": "[encoded data removed]",
      "text/plain": [
       "<Figure size 432x288 with 1 Axes>"
      ]
     },
     "metadata": {
      "needs_background": "light"
     },
     "output_type": "display_data"
    }
   ],
   "source": [
    "sns.boxplot(data=df)"
   ]
  },
  {
   "cell_type": "code",
   "execution_count": 60,
   "id": "35265edb",
   "metadata": {},
   "outputs": [
    {
     "data": {
      "text/plain": [
       "(array([[517.,   0.,   0.,   0.,   0.,   0.,   0.,   0.,   0.,   0.],\n",
       "        [517.,   0.,   0.,   0.,   0.,   0.,   0.,   0.,   0.,   0.],\n",
       "        [517.,   0.,   0.,   0.,   0.,   0.,   0.,   0.,   0.,   0.],\n",
       "        [268., 209.,  40.,   0.,   0.,   0.,   0.,   0.,   0.,   0.],\n",
       "        [ 86.,   3.,  15.,  25.,  27.,  91., 219.,  51.,   0.,   0.],\n",
       "        [517.,   0.,   0.,   0.,   0.,   0.,   0.,   0.,   0.,   0.],\n",
       "        [517.,   0.,   0.,   0.,   0.,   0.,   0.,   0.,   0.,   0.],\n",
       "        [517.,   0.,   0.,   0.,   0.,   0.,   0.,   0.,   0.,   0.],\n",
       "        [517.,   0.,   0.,   0.,   0.,   0.,   0.,   0.,   0.,   0.],\n",
       "        [517.,   0.,   0.,   0.,   0.,   0.,   0.,   0.,   0.,   0.],\n",
       "        [508.,   6.,   1.,   0.,   0.,   0.,   1.,   0.,   0.,   1.],\n",
       "        [517.,   0.,   0.,   0.,   0.,   0.,   0.,   0.,   0.,   0.],\n",
       "        [517.,   0.,   0.,   0.,   0.,   0.,   0.,   0.,   0.,   0.],\n",
       "        [517.,   0.,   0.,   0.,   0.,   0.,   0.,   0.,   0.,   0.],\n",
       "        [517.,   0.,   0.,   0.,   0.,   0.,   0.,   0.,   0.,   0.],\n",
       "        [517.,   0.,   0.,   0.,   0.,   0.,   0.,   0.,   0.,   0.],\n",
       "        [517.,   0.,   0.,   0.,   0.,   0.,   0.,   0.,   0.,   0.],\n",
       "        [517.,   0.,   0.,   0.,   0.,   0.,   0.,   0.,   0.,   0.],\n",
       "        [517.,   0.,   0.,   0.,   0.,   0.,   0.,   0.,   0.,   0.],\n",
       "        [517.,   0.,   0.,   0.,   0.,   0.,   0.,   0.,   0.,   0.],\n",
       "        [517.,   0.,   0.,   0.,   0.,   0.,   0.,   0.,   0.,   0.],\n",
       "        [517.,   0.,   0.,   0.,   0.,   0.,   0.,   0.,   0.,   0.],\n",
       "        [517.,   0.,   0.,   0.,   0.,   0.,   0.,   0.,   0.,   0.],\n",
       "        [517.,   0.,   0.,   0.,   0.,   0.,   0.,   0.,   0.,   0.],\n",
       "        [517.,   0.,   0.,   0.,   0.,   0.,   0.,   0.,   0.,   0.],\n",
       "        [517.,   0.,   0.,   0.,   0.,   0.,   0.,   0.,   0.,   0.],\n",
       "        [517.,   0.,   0.,   0.,   0.,   0.,   0.,   0.,   0.,   0.],\n",
       "        [517.,   0.,   0.,   0.,   0.,   0.,   0.,   0.,   0.,   0.],\n",
       "        [517.,   0.,   0.,   0.,   0.,   0.,   0.,   0.,   0.,   0.],\n",
       "        [517.,   0.,   0.,   0.,   0.,   0.,   0.,   0.,   0.,   0.],\n",
       "        [517.,   0.,   0.,   0.,   0.,   0.,   0.,   0.,   0.,   0.]]),\n",
       " array([0.0, 109.08399999999999, 218.16799999999998, 327.25199999999995,\n",
       "        436.33599999999996, 545.42, 654.5039999999999, 763.588,\n",
       "        872.6719999999999, 981.7559999999999, 1090.84], dtype=object),\n",
       " <a list of 31 BarContainer objects>)"
      ]
     },
     "execution_count": 60,
     "metadata": {},
     "output_type": "execute_result"
    },
    {
     "data": {
      "image/png": "[encoded data removed]",
      "text/plain": [
       "<Figure size 432x288 with 1 Axes>"
      ]
     },
     "metadata": {
      "needs_background": "light"
     },
     "output_type": "display_data"
    }
   ],
   "source": [
    "plt.hist(df)"
   ]
  },
  {
   "cell_type": "code",
   "execution_count": 61,
   "id": "0beff977",
   "metadata": {},
   "outputs": [
    {
     "data": {
      "text/plain": [
       "(array([378.,   0.,   0.,   0.,   0.,   0.,   0.,   0.,   0., 139.]),\n",
       " array([0. , 0.1, 0.2, 0.3, 0.4, 0.5, 0.6, 0.7, 0.8, 0.9, 1. ]),\n",
       " <BarContainer object of 10 artists>)"
      ]
     },
     "execution_count": 61,
     "metadata": {},
     "output_type": "execute_result"
    },
    {
     "data": {
      "image/png": "[encoded data removed]",
      "text/plain": [
       "<Figure size 432x288 with 1 Axes>"
      ]
     },
     "metadata": {
      "needs_background": "light"
     },
     "output_type": "display_data"
    }
   ],
   "source": [
    "plt.hist(df['size_category'])"
   ]
  },
  {
   "cell_type": "code",
   "execution_count": 62,
   "id": "164968be",
   "metadata": {},
   "outputs": [
    {
     "data": {
      "text/plain": [
       "(array([508.,   6.,   1.,   0.,   0.,   0.,   1.,   0.,   0.,   1.]),\n",
       " array([   0.   ,  109.084,  218.168,  327.252,  436.336,  545.42 ,\n",
       "         654.504,  763.588,  872.672,  981.756, 1090.84 ]),\n",
       " <BarContainer object of 10 artists>)"
      ]
     },
     "execution_count": 62,
     "metadata": {},
     "output_type": "execute_result"
    },
    {
     "data": {
      "image/png": "[encoded data removed]",
      "text/plain": [
       "<Figure size 432x288 with 1 Axes>"
      ]
     },
     "metadata": {
      "needs_background": "light"
     },
     "output_type": "display_data"
    }
   ],
   "source": [
    "plt.hist(df['area'])"
   ]
  },
  {
   "cell_type": "code",
   "execution_count": 63,
   "id": "41df28df",
   "metadata": {},
   "outputs": [
    {
     "data": {
      "text/plain": [
       "(array([ 14.,  45.,  97.,  93.,  92., 113.,  19.,  26.,   5.,  13.]),\n",
       " array([0.4, 1.3, 2.2, 3.1, 4. , 4.9, 5.8, 6.7, 7.6, 8.5, 9.4]),\n",
       " <BarContainer object of 10 artists>)"
      ]
     },
     "execution_count": 63,
     "metadata": {},
     "output_type": "execute_result"
    },
    {
     "data": {
      "image/png": "[encoded data removed]",
      "text/plain": [
       "<Figure size 432x288 with 1 Axes>"
      ]
     },
     "metadata": {
      "needs_background": "light"
     },
     "output_type": "display_data"
    }
   ],
   "source": [
    "plt.hist(df['wind'])"
   ]
  },
  {
   "cell_type": "code",
   "execution_count": 64,
   "id": "35190627",
   "metadata": {},
   "outputs": [
    {
     "data": {
      "text/plain": [
       "(array([ 18.,  11.,  31.,  47.,  92., 127.,  99.,  55.,  24.,  13.]),\n",
       " array([ 2.2 ,  5.31,  8.42, 11.53, 14.64, 17.75, 20.86, 23.97, 27.08,\n",
       "        30.19, 33.3 ]),\n",
       " <BarContainer object of 10 artists>)"
      ]
     },
     "execution_count": 64,
     "metadata": {},
     "output_type": "execute_result"
    },
    {
     "data": {
      "image/png": "[encoded data removed]",
      "text/plain": [
       "<Figure size 432x288 with 1 Axes>"
      ]
     },
     "metadata": {
      "needs_background": "light"
     },
     "output_type": "display_data"
    }
   ],
   "source": [
    "plt.hist(df['temp'])"
   ]
  },
  {
   "cell_type": "code",
   "execution_count": 65,
   "id": "88163252",
   "metadata": {},
   "outputs": [
    {
     "data": {
      "text/plain": [
       "small    378\n",
       "large    139\n",
       "Name: size_category, dtype: int64"
      ]
     },
     "execution_count": 65,
     "metadata": {},
     "output_type": "execute_result"
    }
   ],
   "source": [
    "df['size_category'].value_counts()#target variable\n"
   ]
  },
  {
   "cell_type": "code",
   "execution_count": 66,
   "id": "20064d42",
   "metadata": {},
   "outputs": [],
   "source": [
    "def norm_data(i):\n",
    "    x =((i- i.min())/(i.max()-i.min()))\n",
    "    return x\n",
    "normalized_data =norm_data(df.iloc[:,2:-1])"
   ]
  },
  {
   "cell_type": "code",
   "execution_count": 67,
   "id": "342bc4a2",
   "metadata": {},
   "outputs": [
    {
     "data": {
      "text/html": [
       "<div>\n",
       "<style scoped>\n",
       "    .dataframe tbody tr th:only-of-type {\n",
       "        vertical-align: middle;\n",
       "    }\n",
       "\n",
       "    .dataframe tbody tr th {\n",
       "        vertical-align: top;\n",
       "    }\n",
       "\n",
       "    .dataframe thead th {\n",
       "        text-align: right;\n",
       "    }\n",
       "</style>\n",
       "<table border=\"1\" class=\"dataframe\">\n",
       "  <thead>\n",
       "    <tr style=\"text-align: right;\">\n",
       "      <th></th>\n",
       "      <th>FFMC</th>\n",
       "      <th>DMC</th>\n",
       "      <th>DC</th>\n",
       "      <th>ISI</th>\n",
       "      <th>temp</th>\n",
       "      <th>RH</th>\n",
       "      <th>wind</th>\n",
       "      <th>rain</th>\n",
       "      <th>area</th>\n",
       "      <th>dayfri</th>\n",
       "      <th>...</th>\n",
       "      <th>monthdec</th>\n",
       "      <th>monthfeb</th>\n",
       "      <th>monthjan</th>\n",
       "      <th>monthjul</th>\n",
       "      <th>monthjun</th>\n",
       "      <th>monthmar</th>\n",
       "      <th>monthmay</th>\n",
       "      <th>monthnov</th>\n",
       "      <th>monthoct</th>\n",
       "      <th>monthsep</th>\n",
       "    </tr>\n",
       "  </thead>\n",
       "  <tbody>\n",
       "    <tr>\n",
       "      <th>0</th>\n",
       "      <td>0.870968</td>\n",
       "      <td>0.086492</td>\n",
       "      <td>0.101325</td>\n",
       "      <td>0.090909</td>\n",
       "      <td>0.192926</td>\n",
       "      <td>0.423529</td>\n",
       "      <td>0.700000</td>\n",
       "      <td>0.00000</td>\n",
       "      <td>0.000000</td>\n",
       "      <td>1.0</td>\n",
       "      <td>...</td>\n",
       "      <td>0.0</td>\n",
       "      <td>0.0</td>\n",
       "      <td>0.0</td>\n",
       "      <td>0.0</td>\n",
       "      <td>0.0</td>\n",
       "      <td>1.0</td>\n",
       "      <td>0.0</td>\n",
       "      <td>0.0</td>\n",
       "      <td>0.0</td>\n",
       "      <td>0.0</td>\n",
       "    </tr>\n",
       "    <tr>\n",
       "      <th>1</th>\n",
       "      <td>0.927742</td>\n",
       "      <td>0.118194</td>\n",
       "      <td>0.775419</td>\n",
       "      <td>0.119430</td>\n",
       "      <td>0.508039</td>\n",
       "      <td>0.211765</td>\n",
       "      <td>0.055556</td>\n",
       "      <td>0.00000</td>\n",
       "      <td>0.000000</td>\n",
       "      <td>0.0</td>\n",
       "      <td>...</td>\n",
       "      <td>0.0</td>\n",
       "      <td>0.0</td>\n",
       "      <td>0.0</td>\n",
       "      <td>0.0</td>\n",
       "      <td>0.0</td>\n",
       "      <td>0.0</td>\n",
       "      <td>0.0</td>\n",
       "      <td>0.0</td>\n",
       "      <td>1.0</td>\n",
       "      <td>0.0</td>\n",
       "    </tr>\n",
       "    <tr>\n",
       "      <th>2</th>\n",
       "      <td>0.927742</td>\n",
       "      <td>0.146795</td>\n",
       "      <td>0.796294</td>\n",
       "      <td>0.119430</td>\n",
       "      <td>0.398714</td>\n",
       "      <td>0.211765</td>\n",
       "      <td>0.100000</td>\n",
       "      <td>0.00000</td>\n",
       "      <td>0.000000</td>\n",
       "      <td>0.0</td>\n",
       "      <td>...</td>\n",
       "      <td>0.0</td>\n",
       "      <td>0.0</td>\n",
       "      <td>0.0</td>\n",
       "      <td>0.0</td>\n",
       "      <td>0.0</td>\n",
       "      <td>0.0</td>\n",
       "      <td>0.0</td>\n",
       "      <td>0.0</td>\n",
       "      <td>1.0</td>\n",
       "      <td>0.0</td>\n",
       "    </tr>\n",
       "    <tr>\n",
       "      <th>3</th>\n",
       "      <td>0.941935</td>\n",
       "      <td>0.110958</td>\n",
       "      <td>0.081623</td>\n",
       "      <td>0.160428</td>\n",
       "      <td>0.196141</td>\n",
       "      <td>0.964706</td>\n",
       "      <td>0.400000</td>\n",
       "      <td>0.03125</td>\n",
       "      <td>0.000000</td>\n",
       "      <td>1.0</td>\n",
       "      <td>...</td>\n",
       "      <td>0.0</td>\n",
       "      <td>0.0</td>\n",
       "      <td>0.0</td>\n",
       "      <td>0.0</td>\n",
       "      <td>0.0</td>\n",
       "      <td>1.0</td>\n",
       "      <td>0.0</td>\n",
       "      <td>0.0</td>\n",
       "      <td>0.0</td>\n",
       "      <td>0.0</td>\n",
       "    </tr>\n",
       "    <tr>\n",
       "      <th>4</th>\n",
       "      <td>0.910968</td>\n",
       "      <td>0.172984</td>\n",
       "      <td>0.110590</td>\n",
       "      <td>0.171123</td>\n",
       "      <td>0.295820</td>\n",
       "      <td>0.988235</td>\n",
       "      <td>0.155556</td>\n",
       "      <td>0.00000</td>\n",
       "      <td>0.000000</td>\n",
       "      <td>0.0</td>\n",
       "      <td>...</td>\n",
       "      <td>0.0</td>\n",
       "      <td>0.0</td>\n",
       "      <td>0.0</td>\n",
       "      <td>0.0</td>\n",
       "      <td>0.0</td>\n",
       "      <td>1.0</td>\n",
       "      <td>0.0</td>\n",
       "      <td>0.0</td>\n",
       "      <td>0.0</td>\n",
       "      <td>0.0</td>\n",
       "    </tr>\n",
       "    <tr>\n",
       "      <th>...</th>\n",
       "      <td>...</td>\n",
       "      <td>...</td>\n",
       "      <td>...</td>\n",
       "      <td>...</td>\n",
       "      <td>...</td>\n",
       "      <td>...</td>\n",
       "      <td>...</td>\n",
       "      <td>...</td>\n",
       "      <td>...</td>\n",
       "      <td>...</td>\n",
       "      <td>...</td>\n",
       "      <td>...</td>\n",
       "      <td>...</td>\n",
       "      <td>...</td>\n",
       "      <td>...</td>\n",
       "      <td>...</td>\n",
       "      <td>...</td>\n",
       "      <td>...</td>\n",
       "      <td>...</td>\n",
       "      <td>...</td>\n",
       "      <td>...</td>\n",
       "    </tr>\n",
       "    <tr>\n",
       "      <th>512</th>\n",
       "      <td>0.811613</td>\n",
       "      <td>0.191592</td>\n",
       "      <td>0.771315</td>\n",
       "      <td>0.033868</td>\n",
       "      <td>0.823151</td>\n",
       "      <td>0.200000</td>\n",
       "      <td>0.255556</td>\n",
       "      <td>0.00000</td>\n",
       "      <td>0.005904</td>\n",
       "      <td>0.0</td>\n",
       "      <td>...</td>\n",
       "      <td>0.0</td>\n",
       "      <td>0.0</td>\n",
       "      <td>0.0</td>\n",
       "      <td>0.0</td>\n",
       "      <td>0.0</td>\n",
       "      <td>0.0</td>\n",
       "      <td>0.0</td>\n",
       "      <td>0.0</td>\n",
       "      <td>0.0</td>\n",
       "      <td>0.0</td>\n",
       "    </tr>\n",
       "    <tr>\n",
       "      <th>513</th>\n",
       "      <td>0.811613</td>\n",
       "      <td>0.191592</td>\n",
       "      <td>0.771315</td>\n",
       "      <td>0.033868</td>\n",
       "      <td>0.633441</td>\n",
       "      <td>0.658824</td>\n",
       "      <td>0.600000</td>\n",
       "      <td>0.00000</td>\n",
       "      <td>0.049769</td>\n",
       "      <td>0.0</td>\n",
       "      <td>...</td>\n",
       "      <td>0.0</td>\n",
       "      <td>0.0</td>\n",
       "      <td>0.0</td>\n",
       "      <td>0.0</td>\n",
       "      <td>0.0</td>\n",
       "      <td>0.0</td>\n",
       "      <td>0.0</td>\n",
       "      <td>0.0</td>\n",
       "      <td>0.0</td>\n",
       "      <td>0.0</td>\n",
       "    </tr>\n",
       "    <tr>\n",
       "      <th>514</th>\n",
       "      <td>0.811613</td>\n",
       "      <td>0.191592</td>\n",
       "      <td>0.771315</td>\n",
       "      <td>0.033868</td>\n",
       "      <td>0.610932</td>\n",
       "      <td>0.647059</td>\n",
       "      <td>0.700000</td>\n",
       "      <td>0.00000</td>\n",
       "      <td>0.010231</td>\n",
       "      <td>0.0</td>\n",
       "      <td>...</td>\n",
       "      <td>0.0</td>\n",
       "      <td>0.0</td>\n",
       "      <td>0.0</td>\n",
       "      <td>0.0</td>\n",
       "      <td>0.0</td>\n",
       "      <td>0.0</td>\n",
       "      <td>0.0</td>\n",
       "      <td>0.0</td>\n",
       "      <td>0.0</td>\n",
       "      <td>0.0</td>\n",
       "    </tr>\n",
       "    <tr>\n",
       "      <th>515</th>\n",
       "      <td>0.976774</td>\n",
       "      <td>0.499311</td>\n",
       "      <td>0.711622</td>\n",
       "      <td>0.201426</td>\n",
       "      <td>0.752412</td>\n",
       "      <td>0.317647</td>\n",
       "      <td>0.400000</td>\n",
       "      <td>0.00000</td>\n",
       "      <td>0.000000</td>\n",
       "      <td>0.0</td>\n",
       "      <td>...</td>\n",
       "      <td>0.0</td>\n",
       "      <td>0.0</td>\n",
       "      <td>0.0</td>\n",
       "      <td>0.0</td>\n",
       "      <td>0.0</td>\n",
       "      <td>0.0</td>\n",
       "      <td>0.0</td>\n",
       "      <td>0.0</td>\n",
       "      <td>0.0</td>\n",
       "      <td>0.0</td>\n",
       "    </tr>\n",
       "    <tr>\n",
       "      <th>516</th>\n",
       "      <td>0.784516</td>\n",
       "      <td>0.006547</td>\n",
       "      <td>0.115867</td>\n",
       "      <td>0.019608</td>\n",
       "      <td>0.308682</td>\n",
       "      <td>0.188235</td>\n",
       "      <td>0.455556</td>\n",
       "      <td>0.00000</td>\n",
       "      <td>0.000000</td>\n",
       "      <td>0.0</td>\n",
       "      <td>...</td>\n",
       "      <td>0.0</td>\n",
       "      <td>0.0</td>\n",
       "      <td>0.0</td>\n",
       "      <td>0.0</td>\n",
       "      <td>0.0</td>\n",
       "      <td>0.0</td>\n",
       "      <td>0.0</td>\n",
       "      <td>1.0</td>\n",
       "      <td>0.0</td>\n",
       "      <td>0.0</td>\n",
       "    </tr>\n",
       "  </tbody>\n",
       "</table>\n",
       "<p>517 rows × 28 columns</p>\n",
       "</div>"
      ],
      "text/plain": [
       "         FFMC       DMC        DC       ISI      temp        RH      wind  \\\n",
       "0    0.870968  0.086492  0.101325  0.090909  0.192926  0.423529  0.700000   \n",
       "1    0.927742  0.118194  0.775419  0.119430  0.508039  0.211765  0.055556   \n",
       "2    0.927742  0.146795  0.796294  0.119430  0.398714  0.211765  0.100000   \n",
       "3    0.941935  0.110958  0.081623  0.160428  0.196141  0.964706  0.400000   \n",
       "4    0.910968  0.172984  0.110590  0.171123  0.295820  0.988235  0.155556   \n",
       "..        ...       ...       ...       ...       ...       ...       ...   \n",
       "512  0.811613  0.191592  0.771315  0.033868  0.823151  0.200000  0.255556   \n",
       "513  0.811613  0.191592  0.771315  0.033868  0.633441  0.658824  0.600000   \n",
       "514  0.811613  0.191592  0.771315  0.033868  0.610932  0.647059  0.700000   \n",
       "515  0.976774  0.499311  0.711622  0.201426  0.752412  0.317647  0.400000   \n",
       "516  0.784516  0.006547  0.115867  0.019608  0.308682  0.188235  0.455556   \n",
       "\n",
       "        rain      area  dayfri  ...  monthdec  monthfeb  monthjan  monthjul  \\\n",
       "0    0.00000  0.000000     1.0  ...       0.0       0.0       0.0       0.0   \n",
       "1    0.00000  0.000000     0.0  ...       0.0       0.0       0.0       0.0   \n",
       "2    0.00000  0.000000     0.0  ...       0.0       0.0       0.0       0.0   \n",
       "3    0.03125  0.000000     1.0  ...       0.0       0.0       0.0       0.0   \n",
       "4    0.00000  0.000000     0.0  ...       0.0       0.0       0.0       0.0   \n",
       "..       ...       ...     ...  ...       ...       ...       ...       ...   \n",
       "512  0.00000  0.005904     0.0  ...       0.0       0.0       0.0       0.0   \n",
       "513  0.00000  0.049769     0.0  ...       0.0       0.0       0.0       0.0   \n",
       "514  0.00000  0.010231     0.0  ...       0.0       0.0       0.0       0.0   \n",
       "515  0.00000  0.000000     0.0  ...       0.0       0.0       0.0       0.0   \n",
       "516  0.00000  0.000000     0.0  ...       0.0       0.0       0.0       0.0   \n",
       "\n",
       "     monthjun  monthmar  monthmay  monthnov  monthoct  monthsep  \n",
       "0         0.0       1.0       0.0       0.0       0.0       0.0  \n",
       "1         0.0       0.0       0.0       0.0       1.0       0.0  \n",
       "2         0.0       0.0       0.0       0.0       1.0       0.0  \n",
       "3         0.0       1.0       0.0       0.0       0.0       0.0  \n",
       "4         0.0       1.0       0.0       0.0       0.0       0.0  \n",
       "..        ...       ...       ...       ...       ...       ...  \n",
       "512       0.0       0.0       0.0       0.0       0.0       0.0  \n",
       "513       0.0       0.0       0.0       0.0       0.0       0.0  \n",
       "514       0.0       0.0       0.0       0.0       0.0       0.0  \n",
       "515       0.0       0.0       0.0       0.0       0.0       0.0  \n",
       "516       0.0       0.0       0.0       1.0       0.0       0.0  \n",
       "\n",
       "[517 rows x 28 columns]"
      ]
     },
     "execution_count": 67,
     "metadata": {},
     "output_type": "execute_result"
    }
   ],
   "source": [
    "normalized_data\n"
   ]
  },
  {
   "cell_type": "code",
   "execution_count": 68,
   "id": "9e2d92ea",
   "metadata": {},
   "outputs": [],
   "source": [
    "X=normalized_data\n",
    "y=df['size_category']"
   ]
  },
  {
   "cell_type": "code",
   "execution_count": 69,
   "id": "79b4d8e0",
   "metadata": {},
   "outputs": [
    {
     "data": {
      "text/html": [
       "<div>\n",
       "<style scoped>\n",
       "    .dataframe tbody tr th:only-of-type {\n",
       "        vertical-align: middle;\n",
       "    }\n",
       "\n",
       "    .dataframe tbody tr th {\n",
       "        vertical-align: top;\n",
       "    }\n",
       "\n",
       "    .dataframe thead th {\n",
       "        text-align: right;\n",
       "    }\n",
       "</style>\n",
       "<table border=\"1\" class=\"dataframe\">\n",
       "  <thead>\n",
       "    <tr style=\"text-align: right;\">\n",
       "      <th></th>\n",
       "      <th>FFMC</th>\n",
       "      <th>DMC</th>\n",
       "      <th>DC</th>\n",
       "      <th>ISI</th>\n",
       "      <th>temp</th>\n",
       "      <th>RH</th>\n",
       "      <th>wind</th>\n",
       "      <th>rain</th>\n",
       "      <th>area</th>\n",
       "      <th>dayfri</th>\n",
       "      <th>...</th>\n",
       "      <th>monthdec</th>\n",
       "      <th>monthfeb</th>\n",
       "      <th>monthjan</th>\n",
       "      <th>monthjul</th>\n",
       "      <th>monthjun</th>\n",
       "      <th>monthmar</th>\n",
       "      <th>monthmay</th>\n",
       "      <th>monthnov</th>\n",
       "      <th>monthoct</th>\n",
       "      <th>monthsep</th>\n",
       "    </tr>\n",
       "  </thead>\n",
       "  <tbody>\n",
       "    <tr>\n",
       "      <th>0</th>\n",
       "      <td>0.870968</td>\n",
       "      <td>0.086492</td>\n",
       "      <td>0.101325</td>\n",
       "      <td>0.090909</td>\n",
       "      <td>0.192926</td>\n",
       "      <td>0.423529</td>\n",
       "      <td>0.700000</td>\n",
       "      <td>0.00000</td>\n",
       "      <td>0.0</td>\n",
       "      <td>1.0</td>\n",
       "      <td>...</td>\n",
       "      <td>0.0</td>\n",
       "      <td>0.0</td>\n",
       "      <td>0.0</td>\n",
       "      <td>0.0</td>\n",
       "      <td>0.0</td>\n",
       "      <td>1.0</td>\n",
       "      <td>0.0</td>\n",
       "      <td>0.0</td>\n",
       "      <td>0.0</td>\n",
       "      <td>0.0</td>\n",
       "    </tr>\n",
       "    <tr>\n",
       "      <th>1</th>\n",
       "      <td>0.927742</td>\n",
       "      <td>0.118194</td>\n",
       "      <td>0.775419</td>\n",
       "      <td>0.119430</td>\n",
       "      <td>0.508039</td>\n",
       "      <td>0.211765</td>\n",
       "      <td>0.055556</td>\n",
       "      <td>0.00000</td>\n",
       "      <td>0.0</td>\n",
       "      <td>0.0</td>\n",
       "      <td>...</td>\n",
       "      <td>0.0</td>\n",
       "      <td>0.0</td>\n",
       "      <td>0.0</td>\n",
       "      <td>0.0</td>\n",
       "      <td>0.0</td>\n",
       "      <td>0.0</td>\n",
       "      <td>0.0</td>\n",
       "      <td>0.0</td>\n",
       "      <td>1.0</td>\n",
       "      <td>0.0</td>\n",
       "    </tr>\n",
       "    <tr>\n",
       "      <th>2</th>\n",
       "      <td>0.927742</td>\n",
       "      <td>0.146795</td>\n",
       "      <td>0.796294</td>\n",
       "      <td>0.119430</td>\n",
       "      <td>0.398714</td>\n",
       "      <td>0.211765</td>\n",
       "      <td>0.100000</td>\n",
       "      <td>0.00000</td>\n",
       "      <td>0.0</td>\n",
       "      <td>0.0</td>\n",
       "      <td>...</td>\n",
       "      <td>0.0</td>\n",
       "      <td>0.0</td>\n",
       "      <td>0.0</td>\n",
       "      <td>0.0</td>\n",
       "      <td>0.0</td>\n",
       "      <td>0.0</td>\n",
       "      <td>0.0</td>\n",
       "      <td>0.0</td>\n",
       "      <td>1.0</td>\n",
       "      <td>0.0</td>\n",
       "    </tr>\n",
       "    <tr>\n",
       "      <th>3</th>\n",
       "      <td>0.941935</td>\n",
       "      <td>0.110958</td>\n",
       "      <td>0.081623</td>\n",
       "      <td>0.160428</td>\n",
       "      <td>0.196141</td>\n",
       "      <td>0.964706</td>\n",
       "      <td>0.400000</td>\n",
       "      <td>0.03125</td>\n",
       "      <td>0.0</td>\n",
       "      <td>1.0</td>\n",
       "      <td>...</td>\n",
       "      <td>0.0</td>\n",
       "      <td>0.0</td>\n",
       "      <td>0.0</td>\n",
       "      <td>0.0</td>\n",
       "      <td>0.0</td>\n",
       "      <td>1.0</td>\n",
       "      <td>0.0</td>\n",
       "      <td>0.0</td>\n",
       "      <td>0.0</td>\n",
       "      <td>0.0</td>\n",
       "    </tr>\n",
       "    <tr>\n",
       "      <th>4</th>\n",
       "      <td>0.910968</td>\n",
       "      <td>0.172984</td>\n",
       "      <td>0.110590</td>\n",
       "      <td>0.171123</td>\n",
       "      <td>0.295820</td>\n",
       "      <td>0.988235</td>\n",
       "      <td>0.155556</td>\n",
       "      <td>0.00000</td>\n",
       "      <td>0.0</td>\n",
       "      <td>0.0</td>\n",
       "      <td>...</td>\n",
       "      <td>0.0</td>\n",
       "      <td>0.0</td>\n",
       "      <td>0.0</td>\n",
       "      <td>0.0</td>\n",
       "      <td>0.0</td>\n",
       "      <td>1.0</td>\n",
       "      <td>0.0</td>\n",
       "      <td>0.0</td>\n",
       "      <td>0.0</td>\n",
       "      <td>0.0</td>\n",
       "    </tr>\n",
       "  </tbody>\n",
       "</table>\n",
       "<p>5 rows × 28 columns</p>\n",
       "</div>"
      ],
      "text/plain": [
       "       FFMC       DMC        DC       ISI      temp        RH      wind  \\\n",
       "0  0.870968  0.086492  0.101325  0.090909  0.192926  0.423529  0.700000   \n",
       "1  0.927742  0.118194  0.775419  0.119430  0.508039  0.211765  0.055556   \n",
       "2  0.927742  0.146795  0.796294  0.119430  0.398714  0.211765  0.100000   \n",
       "3  0.941935  0.110958  0.081623  0.160428  0.196141  0.964706  0.400000   \n",
       "4  0.910968  0.172984  0.110590  0.171123  0.295820  0.988235  0.155556   \n",
       "\n",
       "      rain  area  dayfri  ...  monthdec  monthfeb  monthjan  monthjul  \\\n",
       "0  0.00000   0.0     1.0  ...       0.0       0.0       0.0       0.0   \n",
       "1  0.00000   0.0     0.0  ...       0.0       0.0       0.0       0.0   \n",
       "2  0.00000   0.0     0.0  ...       0.0       0.0       0.0       0.0   \n",
       "3  0.03125   0.0     1.0  ...       0.0       0.0       0.0       0.0   \n",
       "4  0.00000   0.0     0.0  ...       0.0       0.0       0.0       0.0   \n",
       "\n",
       "   monthjun  monthmar  monthmay  monthnov  monthoct  monthsep  \n",
       "0       0.0       1.0       0.0       0.0       0.0       0.0  \n",
       "1       0.0       0.0       0.0       0.0       1.0       0.0  \n",
       "2       0.0       0.0       0.0       0.0       1.0       0.0  \n",
       "3       0.0       1.0       0.0       0.0       0.0       0.0  \n",
       "4       0.0       1.0       0.0       0.0       0.0       0.0  \n",
       "\n",
       "[5 rows x 28 columns]"
      ]
     },
     "execution_count": 69,
     "metadata": {},
     "output_type": "execute_result"
    }
   ],
   "source": [
    "X.head()"
   ]
  },
  {
   "cell_type": "code",
   "execution_count": 70,
   "id": "471d4c9e",
   "metadata": {},
   "outputs": [
    {
     "data": {
      "text/plain": [
       "0    small\n",
       "1    small\n",
       "2    small\n",
       "3    small\n",
       "4    small\n",
       "Name: size_category, dtype: object"
      ]
     },
     "execution_count": 70,
     "metadata": {},
     "output_type": "execute_result"
    }
   ],
   "source": [
    "y.head()"
   ]
  },
  {
   "cell_type": "code",
   "execution_count": 71,
   "id": "dd57316f",
   "metadata": {},
   "outputs": [],
   "source": [
    "from sklearn.model_selection import train_test_split\n"
   ]
  },
  {
   "cell_type": "code",
   "execution_count": 72,
   "id": "5ad3b687",
   "metadata": {},
   "outputs": [],
   "source": [
    "X_train,X_test,y_train,y_test =train_test_split(X,y,test_size =0.3,random_state =42)"
   ]
  },
  {
   "cell_type": "code",
   "execution_count": 73,
   "id": "393fe0b6",
   "metadata": {},
   "outputs": [
    {
     "data": {
      "text/plain": [
       "28"
      ]
     },
     "execution_count": 73,
     "metadata": {},
     "output_type": "execute_result"
    }
   ],
   "source": [
    "n_features =X.shape[1]\n",
    "n_features"
   ]
  },
  {
   "cell_type": "code",
   "execution_count": 74,
   "id": "dcddd525",
   "metadata": {},
   "outputs": [
    {
     "data": {
      "text/plain": [
       "((361, 28), (156, 28), (361,), (156,))"
      ]
     },
     "execution_count": 74,
     "metadata": {},
     "output_type": "execute_result"
    }
   ],
   "source": [
    "X_train.shape,X_test.shape,y_train.shape,y_test.shape"
   ]
  },
  {
   "cell_type": "code",
   "execution_count": 75,
   "id": "c86d9259",
   "metadata": {},
   "outputs": [
    {
     "name": "stdout",
     "output_type": "stream",
     "text": [
      "Requirement already satisfied: keras in c:\\users\\user\\newfolder\\anaconda3\\lib\\site-packages (2.8.0)\n",
      "Requirement already satisfied: tensorflow in c:\\users\\user\\newfolder\\anaconda3\\lib\\site-packages (2.8.0)\n",
      "Requirement already satisfied: google-pasta>=0.1.1 in c:\\users\\user\\newfolder\\anaconda3\\lib\\site-packages (from tensorflow) (0.2.0)\n",
      "Requirement already satisfied: absl-py>=0.4.0 in c:\\users\\user\\newfolder\\anaconda3\\lib\\site-packages (from tensorflow) (1.0.0)\n",
      "Requirement already satisfied: termcolor>=1.1.0 in c:\\users\\user\\newfolder\\anaconda3\\lib\\site-packages (from tensorflow) (1.1.0)\n",
      "Requirement already satisfied: keras<2.9,>=2.8.0rc0 in c:\\users\\user\\newfolder\\anaconda3\\lib\\site-packages (from tensorflow) (2.8.0)\n",
      "Requirement already satisfied: gast>=0.2.1 in c:\\users\\user\\newfolder\\anaconda3\\lib\\site-packages (from tensorflow) (0.5.3)\n",
      "Requirement already satisfied: opt-einsum>=2.3.2 in c:\\users\\user\\newfolder\\anaconda3\\lib\\site-packages (from tensorflow) (3.3.0)\n",
      "Requirement already satisfied: wrapt>=1.11.0 in c:\\users\\user\\newfolder\\anaconda3\\lib\\site-packages (from tensorflow) (1.12.1)\n",
      "Requirement already satisfied: h5py>=2.9.0 in c:\\users\\user\\newfolder\\anaconda3\\lib\\site-packages (from tensorflow) (3.2.1)\n",
      "Requirement already satisfied: protobuf>=3.9.2 in c:\\users\\user\\newfolder\\anaconda3\\lib\\site-packages (from tensorflow) (3.20.1)\n",
      "Requirement already satisfied: flatbuffers>=1.12 in c:\\users\\user\\newfolder\\anaconda3\\lib\\site-packages (from tensorflow) (2.0)\n",
      "Requirement already satisfied: astunparse>=1.6.0 in c:\\users\\user\\newfolder\\anaconda3\\lib\\site-packages (from tensorflow) (1.6.3)\n",
      "Requirement already satisfied: grpcio<2.0,>=1.24.3 in c:\\users\\user\\newfolder\\anaconda3\\lib\\site-packages (from tensorflow) (1.44.0)\n",
      "Requirement already satisfied: tensorflow-io-gcs-filesystem>=0.23.1 in c:\\users\\user\\newfolder\\anaconda3\\lib\\site-packages (from tensorflow) (0.25.0)\n",
      "Requirement already satisfied: tensorboard<2.9,>=2.8 in c:\\users\\user\\newfolder\\anaconda3\\lib\\site-packages (from tensorflow) (2.8.0)\n",
      "Requirement already satisfied: setuptools in c:\\users\\user\\newfolder\\anaconda3\\lib\\site-packages (from tensorflow) (58.0.4)\n",
      "Requirement already satisfied: libclang>=9.0.1 in c:\\users\\user\\newfolder\\anaconda3\\lib\\site-packages (from tensorflow) (14.0.1)\n",
      "Requirement already satisfied: keras-preprocessing>=1.1.1 in c:\\users\\user\\newfolder\\anaconda3\\lib\\site-packages (from tensorflow) (1.1.2)\n",
      "Requirement already satisfied: six>=1.12.0 in c:\\users\\user\\newfolder\\anaconda3\\lib\\site-packages (from tensorflow) (1.16.0)\n",
      "Requirement already satisfied: tf-estimator-nightly==2.8.0.dev2021122109 in c:\\users\\user\\newfolder\\anaconda3\\lib\\site-packages (from tensorflow) (2.8.0.dev2021122109)\n",
      "Requirement already satisfied: typing-extensions>=3.6.6 in c:\\users\\user\\newfolder\\anaconda3\\lib\\site-packages (from tensorflow) (3.10.0.2)\n",
      "Requirement already satisfied: numpy>=1.20 in c:\\users\\user\\newfolder\\anaconda3\\lib\\site-packages (from tensorflow) (1.20.3)\n",
      "Requirement already satisfied: wheel<1.0,>=0.23.0 in c:\\users\\user\\newfolder\\anaconda3\\lib\\site-packages (from astunparse>=1.6.0->tensorflow) (0.37.0)\n",
      "Requirement already satisfied: google-auth<3,>=1.6.3 in c:\\users\\user\\newfolder\\anaconda3\\lib\\site-packages (from tensorboard<2.9,>=2.8->tensorflow) (2.6.6)\n",
      "Requirement already satisfied: requests<3,>=2.21.0 in c:\\users\\user\\newfolder\\anaconda3\\lib\\site-packages (from tensorboard<2.9,>=2.8->tensorflow) (2.26.0)\n",
      "Requirement already satisfied: markdown>=2.6.8 in c:\\users\\user\\newfolder\\anaconda3\\lib\\site-packages (from tensorboard<2.9,>=2.8->tensorflow) (3.3.6)\n",
      "Requirement already satisfied: werkzeug>=0.11.15 in c:\\users\\user\\newfolder\\anaconda3\\lib\\site-packages (from tensorboard<2.9,>=2.8->tensorflow) (2.0.2)\n",
      "Requirement already satisfied: tensorboard-data-server<0.7.0,>=0.6.0 in c:\\users\\user\\newfolder\\anaconda3\\lib\\site-packages (from tensorboard<2.9,>=2.8->tensorflow) (0.6.1)\n",
      "Requirement already satisfied: google-auth-oauthlib<0.5,>=0.4.1 in c:\\users\\user\\newfolder\\anaconda3\\lib\\site-packages (from tensorboard<2.9,>=2.8->tensorflow) (0.4.6)\n",
      "Requirement already satisfied: tensorboard-plugin-wit>=1.6.0 in c:\\users\\user\\newfolder\\anaconda3\\lib\\site-packages (from tensorboard<2.9,>=2.8->tensorflow) (1.8.1)\n",
      "Requirement already satisfied: rsa<5,>=3.1.4 in c:\\users\\user\\newfolder\\anaconda3\\lib\\site-packages (from google-auth<3,>=1.6.3->tensorboard<2.9,>=2.8->tensorflow) (4.8)\n",
      "Requirement already satisfied: pyasn1-modules>=0.2.1 in c:\\users\\user\\newfolder\\anaconda3\\lib\\site-packages (from google-auth<3,>=1.6.3->tensorboard<2.9,>=2.8->tensorflow) (0.2.8)\n",
      "Requirement already satisfied: cachetools<6.0,>=2.0.0 in c:\\users\\user\\newfolder\\anaconda3\\lib\\site-packages (from google-auth<3,>=1.6.3->tensorboard<2.9,>=2.8->tensorflow) (5.0.0)\n",
      "Requirement already satisfied: requests-oauthlib>=0.7.0 in c:\\users\\user\\newfolder\\anaconda3\\lib\\site-packages (from google-auth-oauthlib<0.5,>=0.4.1->tensorboard<2.9,>=2.8->tensorflow) (1.3.1)\n",
      "Requirement already satisfied: importlib-metadata>=4.4 in c:\\users\\user\\newfolder\\anaconda3\\lib\\site-packages (from markdown>=2.6.8->tensorboard<2.9,>=2.8->tensorflow) (4.8.1)\n",
      "Requirement already satisfied: zipp>=0.5 in c:\\users\\user\\newfolder\\anaconda3\\lib\\site-packages (from importlib-metadata>=4.4->markdown>=2.6.8->tensorboard<2.9,>=2.8->tensorflow) (3.6.0)\n",
      "Requirement already satisfied: pyasn1<0.5.0,>=0.4.6 in c:\\users\\user\\newfolder\\anaconda3\\lib\\site-packages (from pyasn1-modules>=0.2.1->google-auth<3,>=1.6.3->tensorboard<2.9,>=2.8->tensorflow) (0.4.8)\n",
      "Requirement already satisfied: certifi>=2017.4.17 in c:\\users\\user\\newfolder\\anaconda3\\lib\\site-packages (from requests<3,>=2.21.0->tensorboard<2.9,>=2.8->tensorflow) (2021.10.8)\n",
      "Requirement already satisfied: urllib3<1.27,>=1.21.1 in c:\\users\\user\\newfolder\\anaconda3\\lib\\site-packages (from requests<3,>=2.21.0->tensorboard<2.9,>=2.8->tensorflow) (1.26.7)\n",
      "Requirement already satisfied: charset-normalizer~=2.0.0 in c:\\users\\user\\newfolder\\anaconda3\\lib\\site-packages (from requests<3,>=2.21.0->tensorboard<2.9,>=2.8->tensorflow) (2.0.4)\n",
      "Requirement already satisfied: idna<4,>=2.5 in c:\\users\\user\\newfolder\\anaconda3\\lib\\site-packages (from requests<3,>=2.21.0->tensorboard<2.9,>=2.8->tensorflow) (3.2)\n",
      "Requirement already satisfied: oauthlib>=3.0.0 in c:\\users\\user\\newfolder\\anaconda3\\lib\\site-packages (from requests-oauthlib>=0.7.0->google-auth-oauthlib<0.5,>=0.4.1->tensorboard<2.9,>=2.8->tensorflow) (3.2.0)\n"
     ]
    }
   ],
   "source": [
    "!pip install keras\n",
    "!pip install tensorflow"
   ]
  },
  {
   "cell_type": "code",
   "execution_count": 76,
   "id": "d07fef50",
   "metadata": {},
   "outputs": [],
   "source": [
    "model = Sequential()\n",
    "model.add(Dense(12, input_dim=28, activation='relu'))\n",
    "model.add(Dense(28, activation='relu'))\n",
    "model.add(Dense(1, activation='sigmoid'))"
   ]
  },
  {
   "cell_type": "code",
   "execution_count": 77,
   "id": "0c24740e",
   "metadata": {},
   "outputs": [],
   "source": [
    "df1=df.drop(['month','day'],axis=1)\n"
   ]
  },
  {
   "cell_type": "code",
   "execution_count": 78,
   "id": "ff183586",
   "metadata": {},
   "outputs": [],
   "source": [
    "from sklearn.preprocessing import LabelEncoder\n"
   ]
  },
  {
   "cell_type": "code",
   "execution_count": 79,
   "id": "0556c4b7",
   "metadata": {},
   "outputs": [],
   "source": [
    "lb=LabelEncoder()\n"
   ]
  },
  {
   "cell_type": "code",
   "execution_count": 80,
   "id": "cdac6014",
   "metadata": {},
   "outputs": [],
   "source": [
    "df1['size_category']=lb.fit_transform(df1['size_category'])\n"
   ]
  },
  {
   "cell_type": "code",
   "execution_count": 81,
   "id": "5bb4cb4f",
   "metadata": {},
   "outputs": [
    {
     "data": {
      "text/plain": [
       "(517, 29)"
      ]
     },
     "execution_count": 81,
     "metadata": {},
     "output_type": "execute_result"
    }
   ],
   "source": [
    "df2=df1.values\n",
    "df2.shape"
   ]
  },
  {
   "cell_type": "code",
   "execution_count": 82,
   "id": "73f7e5e2",
   "metadata": {},
   "outputs": [
    {
     "data": {
      "text/plain": [
       "(517, 28)"
      ]
     },
     "execution_count": 82,
     "metadata": {},
     "output_type": "execute_result"
    }
   ],
   "source": [
    "x=df2[:,0:28]\n",
    "y=df2[:,-1]\n",
    "x.shape"
   ]
  },
  {
   "cell_type": "code",
   "execution_count": 83,
   "id": "8a0fbbe5",
   "metadata": {},
   "outputs": [],
   "source": [
    "import tensorflow as tf\n",
    "from tensorflow import keras\n",
    "import matplotlib.pyplot as plt\n",
    "import numpy as np\n",
    "%matplotlib inline\n",
    "\n",
    "\n",
    "\n",
    "\n",
    "from tensorflow.keras import Sequential\n",
    "from tensorflow.keras.optimizers import RMSprop\n",
    "import tensorflow"
   ]
  },
  {
   "cell_type": "code",
   "execution_count": 84,
   "id": "a200e125",
   "metadata": {},
   "outputs": [],
   "source": [
    "from sklearn.model_selection import GridSearchCV, KFold\n",
    "from keras.models import Sequential\n",
    "from keras.layers import Dense\n",
    "from keras.wrappers.scikit_learn import KerasClassifier"
   ]
  },
  {
   "cell_type": "code",
   "execution_count": 85,
   "id": "49f38c06",
   "metadata": {},
   "outputs": [],
   "source": [
    "model = Sequential()\n",
    "model.add(Dense(12, input_dim=28, activation='relu'))\n",
    "model.add(Dense(28, activation='relu'))\n",
    "model.add(Dense(1, activation='sigmoid'))"
   ]
  },
  {
   "cell_type": "code",
   "execution_count": 86,
   "id": "daa5d907",
   "metadata": {},
   "outputs": [],
   "source": [
    "seed_val =42\n",
    "import random\n",
    "random.seed(seed_val)\n",
    "tensorflow.random.set_seed(seed_val)"
   ]
  },
  {
   "cell_type": "code",
   "execution_count": 87,
   "id": "2f032645",
   "metadata": {},
   "outputs": [],
   "source": [
    "model.compile(loss='binary_crossentropy', optimizer='Adam', metrics=['accuracy'])\n"
   ]
  },
  {
   "cell_type": "code",
   "execution_count": 88,
   "id": "d6484632",
   "metadata": {},
   "outputs": [
    {
     "name": "stdout",
     "output_type": "stream",
     "text": [
      "Epoch 1/100\n",
      "70/70 [==============================] - 2s 10ms/step - loss: 5.1041 - accuracy: 0.6936 - val_loss: 1.7952 - val_accuracy: 0.5263\n",
      "Epoch 2/100\n",
      "70/70 [==============================] - 0s 7ms/step - loss: 0.6775 - accuracy: 0.7572 - val_loss: 0.5596 - val_accuracy: 0.7251\n",
      "Epoch 3/100\n",
      "70/70 [==============================] - 0s 7ms/step - loss: 0.4455 - accuracy: 0.7919 - val_loss: 0.6226 - val_accuracy: 0.7544\n",
      "Epoch 4/100\n",
      "70/70 [==============================] - 0s 6ms/step - loss: 0.3929 - accuracy: 0.8382 - val_loss: 0.3763 - val_accuracy: 0.8187\n",
      "Epoch 5/100\n",
      "70/70 [==============================] - 0s 6ms/step - loss: 0.4902 - accuracy: 0.8555 - val_loss: 0.5066 - val_accuracy: 0.7778\n",
      "Epoch 6/100\n",
      "70/70 [==============================] - 0s 7ms/step - loss: 0.4491 - accuracy: 0.8353 - val_loss: 0.4529 - val_accuracy: 0.8070\n",
      "Epoch 7/100\n",
      "70/70 [==============================] - 0s 6ms/step - loss: 0.3229 - accuracy: 0.8873 - val_loss: 0.3026 - val_accuracy: 0.9006\n",
      "Epoch 8/100\n",
      "70/70 [==============================] - 0s 6ms/step - loss: 0.3027 - accuracy: 0.8902 - val_loss: 0.6661 - val_accuracy: 0.8012\n",
      "Epoch 9/100\n",
      "70/70 [==============================] - 0s 6ms/step - loss: 0.2871 - accuracy: 0.8960 - val_loss: 0.3112 - val_accuracy: 0.8596\n",
      "Epoch 10/100\n",
      "70/70 [==============================] - 0s 6ms/step - loss: 0.2170 - accuracy: 0.9191 - val_loss: 0.7588 - val_accuracy: 0.5146\n",
      "Epoch 11/100\n",
      "70/70 [==============================] - 1s 7ms/step - loss: 0.2867 - accuracy: 0.8988 - val_loss: 0.2263 - val_accuracy: 0.8830\n",
      "Epoch 12/100\n",
      "70/70 [==============================] - 1s 7ms/step - loss: 0.2175 - accuracy: 0.9162 - val_loss: 0.1953 - val_accuracy: 0.8947\n",
      "Epoch 13/100\n",
      "70/70 [==============================] - 0s 6ms/step - loss: 0.1654 - accuracy: 0.9509 - val_loss: 0.1950 - val_accuracy: 0.8947\n",
      "Epoch 14/100\n",
      "70/70 [==============================] - 0s 6ms/step - loss: 0.1613 - accuracy: 0.9422 - val_loss: 0.2301 - val_accuracy: 0.8830\n",
      "Epoch 15/100\n",
      "70/70 [==============================] - 0s 6ms/step - loss: 0.1888 - accuracy: 0.9277 - val_loss: 0.1923 - val_accuracy: 0.9415\n",
      "Epoch 16/100\n",
      "70/70 [==============================] - 0s 7ms/step - loss: 0.1910 - accuracy: 0.9249 - val_loss: 0.3478 - val_accuracy: 0.8596\n",
      "Epoch 17/100\n",
      "70/70 [==============================] - 0s 6ms/step - loss: 0.1838 - accuracy: 0.9393 - val_loss: 0.1465 - val_accuracy: 0.9415\n",
      "Epoch 18/100\n",
      "70/70 [==============================] - 0s 7ms/step - loss: 0.1374 - accuracy: 0.9566 - val_loss: 0.4449 - val_accuracy: 0.7661\n",
      "Epoch 19/100\n",
      "70/70 [==============================] - 0s 6ms/step - loss: 0.1999 - accuracy: 0.9277 - val_loss: 0.3129 - val_accuracy: 0.8713\n",
      "Epoch 20/100\n",
      "70/70 [==============================] - 0s 6ms/step - loss: 0.2493 - accuracy: 0.9364 - val_loss: 0.3257 - val_accuracy: 0.8713\n",
      "Epoch 21/100\n",
      "70/70 [==============================] - 0s 6ms/step - loss: 0.1385 - accuracy: 0.9364 - val_loss: 0.1271 - val_accuracy: 0.9357\n",
      "Epoch 22/100\n",
      "70/70 [==============================] - 0s 6ms/step - loss: 0.1451 - accuracy: 0.9566 - val_loss: 0.5410 - val_accuracy: 0.8538\n",
      "Epoch 23/100\n",
      "70/70 [==============================] - 0s 7ms/step - loss: 0.0820 - accuracy: 0.9682 - val_loss: 0.1865 - val_accuracy: 0.9006\n",
      "Epoch 24/100\n",
      "70/70 [==============================] - 0s 6ms/step - loss: 0.1002 - accuracy: 0.9682 - val_loss: 0.1320 - val_accuracy: 0.9240\n",
      "Epoch 25/100\n",
      "70/70 [==============================] - 0s 7ms/step - loss: 0.0965 - accuracy: 0.9653 - val_loss: 0.2203 - val_accuracy: 0.9298\n",
      "Epoch 26/100\n",
      "70/70 [==============================] - 1s 12ms/step - loss: 0.2187 - accuracy: 0.9538 - val_loss: 1.3680 - val_accuracy: 0.8129\n",
      "Epoch 27/100\n",
      "70/70 [==============================] - 1s 10ms/step - loss: 0.2557 - accuracy: 0.9220 - val_loss: 0.1097 - val_accuracy: 0.9591\n",
      "Epoch 28/100\n",
      "70/70 [==============================] - 1s 8ms/step - loss: 0.0757 - accuracy: 0.9798 - val_loss: 0.1011 - val_accuracy: 0.9708\n",
      "Epoch 29/100\n",
      "70/70 [==============================] - 1s 8ms/step - loss: 0.0762 - accuracy: 0.9740 - val_loss: 0.1671 - val_accuracy: 0.9006\n",
      "Epoch 30/100\n",
      "70/70 [==============================] - 1s 8ms/step - loss: 0.0733 - accuracy: 0.9827 - val_loss: 0.2054 - val_accuracy: 0.8947\n",
      "Epoch 31/100\n",
      "70/70 [==============================] - 1s 8ms/step - loss: 0.0803 - accuracy: 0.9682 - val_loss: 0.1145 - val_accuracy: 0.9474\n",
      "Epoch 32/100\n",
      "70/70 [==============================] - 1s 9ms/step - loss: 0.0827 - accuracy: 0.9682 - val_loss: 0.3327 - val_accuracy: 0.8713\n",
      "Epoch 33/100\n",
      "70/70 [==============================] - 1s 8ms/step - loss: 0.1292 - accuracy: 0.9538 - val_loss: 0.9672 - val_accuracy: 0.8363\n",
      "Epoch 34/100\n",
      "70/70 [==============================] - 0s 7ms/step - loss: 0.0879 - accuracy: 0.9682 - val_loss: 0.1396 - val_accuracy: 0.9240\n",
      "Epoch 35/100\n",
      "70/70 [==============================] - 0s 7ms/step - loss: 0.1083 - accuracy: 0.9595 - val_loss: 0.1159 - val_accuracy: 0.9357\n",
      "Epoch 36/100\n",
      "70/70 [==============================] - 0s 6ms/step - loss: 0.0654 - accuracy: 0.9711 - val_loss: 0.2112 - val_accuracy: 0.9006\n",
      "Epoch 37/100\n",
      "70/70 [==============================] - 0s 7ms/step - loss: 0.0804 - accuracy: 0.9769 - val_loss: 0.1271 - val_accuracy: 0.9415\n",
      "Epoch 38/100\n",
      "70/70 [==============================] - 0s 6ms/step - loss: 0.0829 - accuracy: 0.9595 - val_loss: 0.0925 - val_accuracy: 0.9532\n",
      "Epoch 39/100\n",
      "70/70 [==============================] - 0s 6ms/step - loss: 0.0565 - accuracy: 0.9827 - val_loss: 0.1209 - val_accuracy: 0.9474\n",
      "Epoch 40/100\n",
      "70/70 [==============================] - 0s 6ms/step - loss: 0.0804 - accuracy: 0.9682 - val_loss: 0.3483 - val_accuracy: 0.8596\n",
      "Epoch 41/100\n",
      "70/70 [==============================] - 0s 5ms/step - loss: 0.0729 - accuracy: 0.9798 - val_loss: 0.3686 - val_accuracy: 0.8889\n",
      "Epoch 42/100\n",
      "70/70 [==============================] - 1s 7ms/step - loss: 0.0968 - accuracy: 0.9653 - val_loss: 0.1806 - val_accuracy: 0.9298\n",
      "Epoch 43/100\n",
      "70/70 [==============================] - 0s 6ms/step - loss: 0.0693 - accuracy: 0.9769 - val_loss: 0.1100 - val_accuracy: 0.9415\n",
      "Epoch 44/100\n",
      "70/70 [==============================] - 0s 6ms/step - loss: 0.2710 - accuracy: 0.9277 - val_loss: 0.1541 - val_accuracy: 0.9357\n",
      "Epoch 45/100\n",
      "70/70 [==============================] - 0s 7ms/step - loss: 0.2079 - accuracy: 0.9335 - val_loss: 0.0761 - val_accuracy: 0.9708\n",
      "Epoch 46/100\n",
      "70/70 [==============================] - 1s 8ms/step - loss: 0.0557 - accuracy: 0.9740 - val_loss: 0.1077 - val_accuracy: 0.9532\n",
      "Epoch 47/100\n",
      "70/70 [==============================] - 0s 7ms/step - loss: 0.0507 - accuracy: 0.9798 - val_loss: 0.3353 - val_accuracy: 0.8889\n",
      "Epoch 48/100\n",
      "70/70 [==============================] - 0s 7ms/step - loss: 0.0720 - accuracy: 0.9769 - val_loss: 0.1546 - val_accuracy: 0.9415\n",
      "Epoch 49/100\n",
      "70/70 [==============================] - 1s 8ms/step - loss: 0.1676 - accuracy: 0.9740 - val_loss: 0.1867 - val_accuracy: 0.9240\n",
      "Epoch 50/100\n",
      "70/70 [==============================] - 1s 9ms/step - loss: 0.0701 - accuracy: 0.9769 - val_loss: 0.1152 - val_accuracy: 0.9474\n",
      "Epoch 51/100\n",
      "70/70 [==============================] - 0s 7ms/step - loss: 0.0384 - accuracy: 0.9798 - val_loss: 0.0799 - val_accuracy: 0.9591\n",
      "Epoch 52/100\n",
      "70/70 [==============================] - 1s 8ms/step - loss: 0.0528 - accuracy: 0.9827 - val_loss: 0.1119 - val_accuracy: 0.9532\n",
      "Epoch 53/100\n",
      "70/70 [==============================] - 0s 6ms/step - loss: 0.0361 - accuracy: 0.9798 - val_loss: 0.2579 - val_accuracy: 0.9064\n",
      "Epoch 54/100\n",
      "70/70 [==============================] - 0s 7ms/step - loss: 0.1834 - accuracy: 0.9653 - val_loss: 0.3262 - val_accuracy: 0.8889\n",
      "Epoch 55/100\n",
      "70/70 [==============================] - 0s 6ms/step - loss: 0.1737 - accuracy: 0.9480 - val_loss: 0.0908 - val_accuracy: 0.9474\n",
      "Epoch 56/100\n",
      "70/70 [==============================] - 0s 7ms/step - loss: 0.0972 - accuracy: 0.9711 - val_loss: 0.1288 - val_accuracy: 0.9591\n",
      "Epoch 57/100\n",
      "70/70 [==============================] - 0s 7ms/step - loss: 0.0356 - accuracy: 0.9913 - val_loss: 0.1255 - val_accuracy: 0.9532\n",
      "Epoch 58/100\n",
      "70/70 [==============================] - 0s 6ms/step - loss: 0.0362 - accuracy: 0.9827 - val_loss: 0.0693 - val_accuracy: 0.9532\n"
     ]
    },
    {
     "name": "stdout",
     "output_type": "stream",
     "text": [
      "Epoch 59/100\n",
      "70/70 [==============================] - 0s 6ms/step - loss: 0.0348 - accuracy: 0.9913 - val_loss: 0.0956 - val_accuracy: 0.9591\n",
      "Epoch 60/100\n",
      "70/70 [==============================] - 0s 5ms/step - loss: 0.0726 - accuracy: 0.9827 - val_loss: 0.1220 - val_accuracy: 0.9474\n",
      "Epoch 61/100\n",
      "70/70 [==============================] - 0s 6ms/step - loss: 0.0339 - accuracy: 0.9855 - val_loss: 0.1309 - val_accuracy: 0.9532\n",
      "Epoch 62/100\n",
      "70/70 [==============================] - 0s 6ms/step - loss: 0.0166 - accuracy: 0.9942 - val_loss: 0.1006 - val_accuracy: 0.9532\n",
      "Epoch 63/100\n",
      "70/70 [==============================] - 0s 7ms/step - loss: 0.0460 - accuracy: 0.9855 - val_loss: 0.0904 - val_accuracy: 0.9649\n",
      "Epoch 64/100\n",
      "70/70 [==============================] - 0s 7ms/step - loss: 0.0616 - accuracy: 0.9827 - val_loss: 0.2298 - val_accuracy: 0.9240\n",
      "Epoch 65/100\n",
      "70/70 [==============================] - 1s 8ms/step - loss: 0.1302 - accuracy: 0.9538 - val_loss: 0.4332 - val_accuracy: 0.8830\n",
      "Epoch 66/100\n",
      "70/70 [==============================] - 0s 7ms/step - loss: 0.1262 - accuracy: 0.9595 - val_loss: 0.1353 - val_accuracy: 0.9474\n",
      "Epoch 67/100\n",
      "70/70 [==============================] - 0s 7ms/step - loss: 0.1055 - accuracy: 0.9538 - val_loss: 0.1446 - val_accuracy: 0.9474\n",
      "Epoch 68/100\n",
      "70/70 [==============================] - 0s 7ms/step - loss: 0.0852 - accuracy: 0.9711 - val_loss: 0.3533 - val_accuracy: 0.9006\n",
      "Epoch 69/100\n",
      "70/70 [==============================] - 0s 7ms/step - loss: 0.0694 - accuracy: 0.9711 - val_loss: 0.1297 - val_accuracy: 0.9415\n",
      "Epoch 70/100\n",
      "70/70 [==============================] - 0s 6ms/step - loss: 0.2159 - accuracy: 0.9335 - val_loss: 0.6514 - val_accuracy: 0.8655\n",
      "Epoch 71/100\n",
      "70/70 [==============================] - 0s 6ms/step - loss: 0.1000 - accuracy: 0.9682 - val_loss: 0.0759 - val_accuracy: 0.9532\n",
      "Epoch 72/100\n",
      "70/70 [==============================] - 0s 6ms/step - loss: 0.0451 - accuracy: 0.9769 - val_loss: 0.1076 - val_accuracy: 0.9532\n",
      "Epoch 73/100\n",
      "70/70 [==============================] - 0s 7ms/step - loss: 0.0378 - accuracy: 0.9942 - val_loss: 0.0896 - val_accuracy: 0.9591\n",
      "Epoch 74/100\n",
      "70/70 [==============================] - 0s 6ms/step - loss: 0.0820 - accuracy: 0.9740 - val_loss: 0.1295 - val_accuracy: 0.9474\n",
      "Epoch 75/100\n",
      "70/70 [==============================] - 0s 7ms/step - loss: 0.0482 - accuracy: 0.9827 - val_loss: 0.6640 - val_accuracy: 0.8713\n",
      "Epoch 76/100\n",
      "70/70 [==============================] - 0s 6ms/step - loss: 0.0428 - accuracy: 0.9827 - val_loss: 0.1129 - val_accuracy: 0.9591\n",
      "Epoch 77/100\n",
      "70/70 [==============================] - 0s 6ms/step - loss: 0.0305 - accuracy: 0.9827 - val_loss: 0.0883 - val_accuracy: 0.9591\n",
      "Epoch 78/100\n",
      "70/70 [==============================] - 0s 7ms/step - loss: 0.0298 - accuracy: 0.9913 - val_loss: 0.1124 - val_accuracy: 0.9591\n",
      "Epoch 79/100\n",
      "70/70 [==============================] - 0s 6ms/step - loss: 0.0475 - accuracy: 0.9769 - val_loss: 0.1298 - val_accuracy: 0.9532\n",
      "Epoch 80/100\n",
      "70/70 [==============================] - 0s 7ms/step - loss: 0.0496 - accuracy: 0.9913 - val_loss: 0.1916 - val_accuracy: 0.9415\n",
      "Epoch 81/100\n",
      "70/70 [==============================] - 0s 7ms/step - loss: 0.0912 - accuracy: 0.9653 - val_loss: 0.0985 - val_accuracy: 0.9591\n",
      "Epoch 82/100\n",
      "70/70 [==============================] - 0s 6ms/step - loss: 0.1433 - accuracy: 0.9624 - val_loss: 0.0908 - val_accuracy: 0.9591\n",
      "Epoch 83/100\n",
      "70/70 [==============================] - 0s 7ms/step - loss: 0.0239 - accuracy: 0.9913 - val_loss: 0.1051 - val_accuracy: 0.9474\n",
      "Epoch 84/100\n",
      "70/70 [==============================] - 0s 7ms/step - loss: 0.0337 - accuracy: 0.9884 - val_loss: 0.1231 - val_accuracy: 0.9474\n",
      "Epoch 85/100\n",
      "70/70 [==============================] - 0s 7ms/step - loss: 0.0523 - accuracy: 0.9855 - val_loss: 0.2256 - val_accuracy: 0.9415\n",
      "Epoch 86/100\n",
      "70/70 [==============================] - 0s 6ms/step - loss: 0.0394 - accuracy: 0.9884 - val_loss: 0.0893 - val_accuracy: 0.9532\n",
      "Epoch 87/100\n",
      "70/70 [==============================] - 1s 7ms/step - loss: 0.0698 - accuracy: 0.9682 - val_loss: 1.2758 - val_accuracy: 0.8655\n",
      "Epoch 88/100\n",
      "70/70 [==============================] - 0s 6ms/step - loss: 0.1322 - accuracy: 0.9682 - val_loss: 0.4317 - val_accuracy: 0.8889\n",
      "Epoch 89/100\n",
      "70/70 [==============================] - 0s 7ms/step - loss: 0.0494 - accuracy: 0.9827 - val_loss: 0.3739 - val_accuracy: 0.8947\n",
      "Epoch 90/100\n",
      "70/70 [==============================] - 0s 7ms/step - loss: 0.0665 - accuracy: 0.9769 - val_loss: 0.1002 - val_accuracy: 0.9532\n",
      "Epoch 91/100\n",
      "70/70 [==============================] - 0s 6ms/step - loss: 0.0195 - accuracy: 0.9913 - val_loss: 0.0804 - val_accuracy: 0.9591\n",
      "Epoch 92/100\n",
      "70/70 [==============================] - 0s 6ms/step - loss: 0.0478 - accuracy: 0.9769 - val_loss: 0.0900 - val_accuracy: 0.9591\n",
      "Epoch 93/100\n",
      "70/70 [==============================] - 0s 6ms/step - loss: 0.0597 - accuracy: 0.9798 - val_loss: 0.0886 - val_accuracy: 0.9591\n",
      "Epoch 94/100\n",
      "70/70 [==============================] - 0s 6ms/step - loss: 0.0667 - accuracy: 0.9711 - val_loss: 0.2484 - val_accuracy: 0.9298\n",
      "Epoch 95/100\n",
      "70/70 [==============================] - 1s 7ms/step - loss: 0.0421 - accuracy: 0.9827 - val_loss: 0.1486 - val_accuracy: 0.9532\n",
      "Epoch 96/100\n",
      "70/70 [==============================] - 1s 7ms/step - loss: 0.0419 - accuracy: 0.9798 - val_loss: 0.1239 - val_accuracy: 0.9532\n",
      "Epoch 97/100\n",
      "70/70 [==============================] - 1s 9ms/step - loss: 0.0277 - accuracy: 0.9913 - val_loss: 0.0875 - val_accuracy: 0.9649\n",
      "Epoch 98/100\n",
      "70/70 [==============================] - 1s 9ms/step - loss: 0.0196 - accuracy: 0.9942 - val_loss: 0.0817 - val_accuracy: 0.9649\n",
      "Epoch 99/100\n",
      "70/70 [==============================] - 1s 12ms/step - loss: 0.1252 - accuracy: 0.9653 - val_loss: 0.0993 - val_accuracy: 0.9532\n",
      "Epoch 100/100\n",
      "70/70 [==============================] - 1s 9ms/step - loss: 0.0379 - accuracy: 0.9827 - val_loss: 0.0794 - val_accuracy: 0.9591\n"
     ]
    },
    {
     "data": {
      "text/plain": [
       "<keras.callbacks.History at 0x1bc67c34ca0>"
      ]
     },
     "execution_count": 88,
     "metadata": {},
     "output_type": "execute_result"
    }
   ],
   "source": [
    "model.fit(x, y, validation_split=0.33,epochs=100, batch_size=5)\n"
   ]
  },
  {
   "cell_type": "code",
   "execution_count": 90,
   "id": "12ee5078",
   "metadata": {},
   "outputs": [],
   "source": [
    "y_pred = model.predict(X_test)"
   ]
  },
  {
   "cell_type": "code",
   "execution_count": 91,
   "id": "7ccd534c",
   "metadata": {},
   "outputs": [
    {
     "data": {
      "text/plain": [
       "array([0.73196435], dtype=float32)"
      ]
     },
     "execution_count": 91,
     "metadata": {},
     "output_type": "execute_result"
    }
   ],
   "source": [
    "y_pred[25]\n"
   ]
  },
  {
   "cell_type": "code",
   "execution_count": 92,
   "id": "caaf3cc4",
   "metadata": {},
   "outputs": [
    {
     "data": {
      "text/plain": [
       "'large'"
      ]
     },
     "execution_count": 92,
     "metadata": {},
     "output_type": "execute_result"
    }
   ],
   "source": [
    "y_test[192]\n"
   ]
  },
  {
   "cell_type": "code",
   "execution_count": 93,
   "id": "07e4d348",
   "metadata": {},
   "outputs": [
    {
     "data": {
      "text/plain": [
       "array([[0.62782764],\n",
       "       [0.6759048 ],\n",
       "       [0.6765365 ],\n",
       "       [0.626689  ],\n",
       "       [0.7325914 ],\n",
       "       [0.662281  ],\n",
       "       [0.64538807],\n",
       "       [0.82953167],\n",
       "       [0.5852577 ],\n",
       "       [0.75741076],\n",
       "       [0.67702603],\n",
       "       [0.61308336],\n",
       "       [0.55612504],\n",
       "       [0.8516567 ],\n",
       "       [0.5897053 ],\n",
       "       [0.7930875 ],\n",
       "       [0.65882397],\n",
       "       [0.62089074],\n",
       "       [0.6544555 ],\n",
       "       [0.6642543 ],\n",
       "       [0.66422117],\n",
       "       [0.7816293 ],\n",
       "       [0.57751536],\n",
       "       [0.62335193],\n",
       "       [0.6270723 ],\n",
       "       [0.73196435],\n",
       "       [0.5695073 ],\n",
       "       [0.7331034 ],\n",
       "       [0.5583789 ],\n",
       "       [0.77496123],\n",
       "       [0.83705527],\n",
       "       [0.56678015],\n",
       "       [0.5663948 ],\n",
       "       [0.59705216],\n",
       "       [0.65900576],\n",
       "       [0.81842756],\n",
       "       [0.7459328 ],\n",
       "       [0.6963899 ],\n",
       "       [0.6460799 ],\n",
       "       [0.83162034],\n",
       "       [0.84604883],\n",
       "       [0.62404954],\n",
       "       [0.82722133],\n",
       "       [0.7808057 ],\n",
       "       [0.6505701 ],\n",
       "       [0.80700564],\n",
       "       [0.64583886],\n",
       "       [0.7857212 ],\n",
       "       [0.7839282 ],\n",
       "       [0.720376  ],\n",
       "       [0.6696214 ],\n",
       "       [0.43078813],\n",
       "       [0.6568819 ],\n",
       "       [0.8282415 ],\n",
       "       [0.72070146],\n",
       "       [0.6593485 ],\n",
       "       [0.5741563 ],\n",
       "       [0.55447185],\n",
       "       [0.5637671 ],\n",
       "       [0.5819761 ],\n",
       "       [0.7378622 ],\n",
       "       [0.64876586],\n",
       "       [0.8327997 ],\n",
       "       [0.65945804],\n",
       "       [0.8450742 ],\n",
       "       [0.7786597 ],\n",
       "       [0.71677727],\n",
       "       [0.84642726],\n",
       "       [0.64971435],\n",
       "       [0.6621455 ],\n",
       "       [0.5729456 ],\n",
       "       [0.50156975],\n",
       "       [0.8253536 ],\n",
       "       [0.6183543 ],\n",
       "       [0.84032905],\n",
       "       [0.6558518 ],\n",
       "       [0.652817  ],\n",
       "       [0.8365519 ],\n",
       "       [0.67105854],\n",
       "       [0.73781544],\n",
       "       [0.8722943 ],\n",
       "       [0.6793837 ],\n",
       "       [0.67702603],\n",
       "       [0.768595  ],\n",
       "       [0.59364676],\n",
       "       [0.5019192 ],\n",
       "       [0.58402985],\n",
       "       [0.6141252 ],\n",
       "       [0.6247408 ],\n",
       "       [0.60905033],\n",
       "       [0.8343251 ],\n",
       "       [0.7284067 ],\n",
       "       [0.58051753],\n",
       "       [0.667835  ],\n",
       "       [0.656044  ],\n",
       "       [0.83271015],\n",
       "       [0.66422284],\n",
       "       [0.8466501 ],\n",
       "       [0.67311966],\n",
       "       [0.7307729 ],\n",
       "       [0.83943963],\n",
       "       [0.70417523],\n",
       "       [0.83819026],\n",
       "       [0.78389835],\n",
       "       [0.5810123 ],\n",
       "       [0.555345  ],\n",
       "       [0.65558785],\n",
       "       [0.6599594 ],\n",
       "       [0.67219776],\n",
       "       [0.64217913],\n",
       "       [0.6183329 ],\n",
       "       [0.63739854],\n",
       "       [0.60906744],\n",
       "       [0.5659405 ],\n",
       "       [0.84535664],\n",
       "       [0.8568498 ],\n",
       "       [0.62422085],\n",
       "       [0.7798992 ],\n",
       "       [0.6776763 ],\n",
       "       [0.68931377],\n",
       "       [0.6901328 ],\n",
       "       [0.6308056 ],\n",
       "       [0.5715246 ],\n",
       "       [0.71060014],\n",
       "       [0.8316414 ],\n",
       "       [0.6828433 ],\n",
       "       [0.8445749 ],\n",
       "       [0.56509787],\n",
       "       [0.58407307],\n",
       "       [0.62311846],\n",
       "       [0.8408543 ],\n",
       "       [0.6800084 ],\n",
       "       [0.59747744],\n",
       "       [0.8391347 ],\n",
       "       [0.67508835],\n",
       "       [0.65785444],\n",
       "       [0.7427858 ],\n",
       "       [0.58043516],\n",
       "       [0.7262438 ],\n",
       "       [0.5753644 ],\n",
       "       [0.64501697],\n",
       "       [0.5842972 ],\n",
       "       [0.59326273],\n",
       "       [0.56493384],\n",
       "       [0.85704803],\n",
       "       [0.6118031 ],\n",
       "       [0.50000113],\n",
       "       [0.66578317],\n",
       "       [0.7169823 ],\n",
       "       [0.6634643 ],\n",
       "       [0.5320223 ],\n",
       "       [0.6491066 ],\n",
       "       [0.6260944 ],\n",
       "       [0.6741619 ],\n",
       "       [0.72669256],\n",
       "       [0.67865187]], dtype=float32)"
      ]
     },
     "execution_count": 93,
     "metadata": {},
     "output_type": "execute_result"
    }
   ],
   "source": [
    "y_pred\n"
   ]
  },
  {
   "cell_type": "code",
   "execution_count": null,
   "id": "952946ec",
   "metadata": {},
   "outputs": [],
   "source": []
  }
 ],
 "metadata": {
  "kernelspec": {
   "display_name": "Python 3 (ipykernel)",
   "language": "python",
   "name": "python3"
  },
  "language_info": {
   "codemirror_mode": {
    "name": "ipython",
    "version": 3
   },
   "file_extension": ".py",
   "mimetype": "text/x-python",
   "name": "python",
   "nbconvert_exporter": "python",
   "pygments_lexer": "ipython3",
   "version": "3.9.7"
  }
 },
 "nbformat": 4,
 "nbformat_minor": 5
}
